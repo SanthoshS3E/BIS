{
  "nbformat": 4,
  "nbformat_minor": 0,
  "metadata": {
    "colab": {
      "provenance": []
    },
    "kernelspec": {
      "name": "python3",
      "display_name": "Python 3"
    },
    "language_info": {
      "name": "python"
    }
  },
  "cells": [
    {
      "cell_type": "code",
      "execution_count": null,
      "metadata": {
        "colab": {
          "base_uri": "https://localhost:8080/"
        },
        "id": "VkFVWW9XXNU2",
        "outputId": "775496d2-ce2e-4d61-afa0-404398240748"
      },
      "outputs": [
        {
          "output_type": "stream",
          "name": "stdout",
          "text": [
            "Iteration 1/50, Best Fitness: 54.99284923697366\n",
            "Iteration 11/50, Best Fitness: 37.967575157273394\n",
            "Iteration 21/50, Best Fitness: 30.36128586284407\n",
            "Iteration 31/50, Best Fitness: 23.259817673200633\n",
            "Iteration 41/50, Best Fitness: 19.234263008468304\n",
            "Iteration 50/50, Best Fitness: 19.234263008468304\n",
            "\n",
            "Best solution found:  [ 0.00587978 -1.88561194  0.86389239 -0.87520271  1.90599959]\n",
            "Best fitness (objective value):  19.234263008468304\n"
          ]
        },
        {
          "output_type": "stream",
          "name": "stderr",
          "text": [
            "<ipython-input-3-fb4a1a18f5fb>:10: DeprecationWarning: `np.math` is a deprecated alias for the standard library `math` module (Deprecated Numpy 1.25). Replace usages of `np.math` with `math`\n",
            "  sigma_u = (np.math.gamma(1 + Lambda) * np.sin(np.pi * Lambda / 2) /\n",
            "<ipython-input-3-fb4a1a18f5fb>:11: DeprecationWarning: `np.math` is a deprecated alias for the standard library `math` module (Deprecated Numpy 1.25). Replace usages of `np.math` with `math`\n",
            "  (np.math.gamma((1 + Lambda) / 2) * Lambda * 2**((Lambda - 1) / 2)))**(1 / Lambda)\n"
          ]
        }
      ],
      "source": [
        "import numpy as np\n",
        "\n",
        "# Define the Rastrigin function (objective function to minimize)\n",
        "def rastrigin(x):\n",
        "    A = 10\n",
        "    return A * len(x) + sum(x**2 - A * np.cos(2 * np.pi * x))\n",
        "\n",
        "# Levy Flight function (helps with exploration)\n",
        "def levy_flight(Lambda, d):\n",
        "    sigma_u = (np.math.gamma(1 + Lambda) * np.sin(np.pi * Lambda / 2) /\n",
        "               (np.math.gamma((1 + Lambda) / 2) * Lambda * 2**((Lambda - 1) / 2)))**(1 / Lambda)\n",
        "    u = np.random.normal(0, sigma_u, size=d)\n",
        "    v = np.random.normal(0, 1, size=d)\n",
        "    step = u / np.abs(v)**(1 / Lambda)\n",
        "    return step\n",
        "\n",
        "# Cuckoo Search Algorithm\n",
        "def cuckoo_search(func, dim, bounds, num_nests=25, max_iter=100, pa=0.25, alpha=0.01, beta=1.5):\n",
        "    # Initialize nests randomly within bounds\n",
        "    nests = np.random.uniform(bounds[0], bounds[1], (num_nests, dim))\n",
        "\n",
        "    # Calculate fitness of each nest\n",
        "    fitness = np.array([func(nest) for nest in nests])\n",
        "\n",
        "    # Initialize the best nest and its fitness\n",
        "    best_nest = nests[np.argmin(fitness)]\n",
        "    best_fitness = np.min(fitness)\n",
        "\n",
        "    # Main loop for the algorithm\n",
        "    for iteration in range(max_iter):\n",
        "        for i in range(num_nests):\n",
        "            # Generate new nest using Levy flight\n",
        "            step = alpha * levy_flight(beta, dim)\n",
        "            new_nest = nests[i] + step * (nests[i] - best_nest)  # Move towards the best nest\n",
        "\n",
        "            # Ensure the new nest is within bounds\n",
        "            new_nest = np.clip(new_nest, bounds[0], bounds[1])\n",
        "\n",
        "            # Evaluate the new nest\n",
        "            new_fitness = func(new_nest)\n",
        "\n",
        "            # If new nest is better, replace the old nest\n",
        "            if new_fitness < fitness[i]:\n",
        "                nests[i] = new_nest\n",
        "                fitness[i] = new_fitness\n",
        "\n",
        "        # Replace some of the worst nests\n",
        "        worst_nests_idx = np.argsort(fitness)[-int(pa * num_nests):]\n",
        "        nests[worst_nests_idx] = np.random.uniform(bounds[0], bounds[1], (len(worst_nests_idx), dim))\n",
        "        fitness[worst_nests_idx] = np.array([func(nest) for nest in nests[worst_nests_idx]])\n",
        "\n",
        "        # Update the best solution\n",
        "        min_idx = np.argmin(fitness)\n",
        "        if fitness[min_idx] < best_fitness:\n",
        "            best_fitness = fitness[min_idx]\n",
        "            best_nest = nests[min_idx]\n",
        "\n",
        "        # Print the best fitness every 10 iterations for less verbose output\n",
        "        if iteration % 10 == 0 or iteration == max_iter - 1:\n",
        "            print(f\"Iteration {iteration + 1}/{max_iter}, Best Fitness: {best_fitness}\")\n",
        "\n",
        "    return best_nest, best_fitness\n",
        "\n",
        "# Define the problem bounds and parameters\n",
        "dim = 5  # Problem dimensionality (5-dimensional optimization)\n",
        "bounds = [-5.12, 5.12]  # Bounds for the search space (for Rastrigin function)\n",
        "num_nests = 25  # Number of nests (solutions) to consider\n",
        "max_iter = 50  # Reduce the number of iterations for faster results\n",
        "pa = 0.25  # Probability of discovering a nest (fraction of worst nests to abandon)\n",
        "\n",
        "# Run the Cuckoo Search algorithm\n",
        "best_solution, best_fitness = cuckoo_search(rastrigin, dim, bounds, num_nests, max_iter, pa)\n",
        "\n",
        "# Output the best solution and fitness\n",
        "print(\"\\nBest solution found: \", best_solution)\n",
        "print(\"Best fitness (objective value): \", best_fitness)\n"
      ]
    }
  ]
}