{
  "nbformat": 4,
  "nbformat_minor": 0,
  "metadata": {
    "colab": {
      "provenance": []
    },
    "kernelspec": {
      "name": "python3",
      "display_name": "Python 3"
    },
    "language_info": {
      "name": "python"
    }
  },
  "cells": [
    {
      "cell_type": "code",
      "execution_count": null,
      "metadata": {
        "colab": {
          "base_uri": "https://localhost:8080/"
        },
        "id": "LzGjq_w6c2Bp",
        "outputId": "cc6dbd5f-4e16-499b-c5ca-55a64e1963e3"
      },
      "outputs": [
        {
          "output_type": "stream",
          "name": "stdout",
          "text": [
            "Best Route: [6, 7, 8, 1, 9, 3, 2, 5, 4, 0, 6]\n",
            "Best Length: 284.85307531935496\n"
          ]
        }
      ],
      "source": [
        "import numpy as np\n",
        "import random\n",
        "\n",
        "\n",
        "num_cities = 10\n",
        "num_ants = 5\n",
        "\n",
        "cities = np.random.rand(num_cities, 2) * 100\n",
        "\n",
        "\n",
        "distances = np.zeros((num_cities, num_cities))\n",
        "for i in range(num_cities):\n",
        "    for j in range(num_cities):\n",
        "        distances[i][j] = np.linalg.norm(cities[i] - cities[j])\n",
        "\n",
        "\n",
        "alpha = 1.0\n",
        "beta = 2.0\n",
        "rho = 0.5\n",
        "Q = 100\n",
        "pheromones = np.ones((num_cities, num_cities))\n",
        "\n",
        "\n",
        "def choose_next_city(current_city, visited):\n",
        "    probs = []\n",
        "    for city in range(num_cities):\n",
        "        if city not in visited:\n",
        "            tau = pheromones[current_city][city] ** alpha\n",
        "            eta = (1 / distances[current_city][city]) ** beta\n",
        "            probs.append(tau * eta)\n",
        "        else:\n",
        "            probs.append(0)\n",
        "    probs = np.array(probs) / sum(probs)\n",
        "    return np.random.choice(range(num_cities), p=probs)\n",
        "\n",
        "# Run the ACO algorithm\n",
        "best_route = None\n",
        "best_length = float('inf')\n",
        "\n",
        "for iteration in range(100):  # Number of iterations\n",
        "    routes = []\n",
        "    route_lengths = []\n",
        "\n",
        "    for ant in range(num_ants):\n",
        "        visited = set()\n",
        "        route = [random.randint(0, num_cities - 1)]  # Start at a random city\n",
        "        visited.add(route[0])\n",
        "\n",
        "        # Build a route by choosing cities\n",
        "        for _ in range(num_cities - 1):\n",
        "            current_city = route[-1]\n",
        "            next_city = choose_next_city(current_city, visited)\n",
        "            route.append(next_city)\n",
        "            visited.add(next_city)\n",
        "        route.append(route[0])  # Return to starting city\n",
        "\n",
        "        # Calculate the route length\n",
        "        length = sum(distances[route[i]][route[i + 1]] for i in range(len(route) - 1))\n",
        "        routes.append(route)\n",
        "        route_lengths.append(length)\n",
        "\n",
        "        # Update the best route found\n",
        "        if length < best_length:\n",
        "            best_length = length\n",
        "            best_route = route\n",
        "\n",
        "    # Update pheromones\n",
        "    pheromones *= (1 - rho)  # Evaporate pheromone\n",
        "    for route, length in zip(routes, route_lengths):\n",
        "        pheromone_increase = Q / length\n",
        "        for i in range(len(route) - 1):\n",
        "            a, b = route[i], route[i + 1]\n",
        "            pheromones[a][b] += pheromone_increase\n",
        "            pheromones[b][a] += pheromone_increase  # Symmetric\n",
        "\n",
        "# Print the best route and its length\n",
        "print(\"Best Route:\", best_route)\n",
        "print(\"Best Length:\", best_length)\n"
      ]
    }
  ]
}