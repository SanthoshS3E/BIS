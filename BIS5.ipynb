{
  "nbformat": 4,
  "nbformat_minor": 0,
  "metadata": {
    "colab": {
      "provenance": []
    },
    "kernelspec": {
      "name": "python3",
      "display_name": "Python 3"
    },
    "language_info": {
      "name": "python"
    }
  },
  "cells": [
    {
      "cell_type": "code",
      "execution_count": null,
      "metadata": {
        "colab": {
          "base_uri": "https://localhost:8080/"
        },
        "id": "8PRtm-6RXVd1",
        "outputId": "1109234a-708e-46ee-e920-1ccb332d9961"
      },
      "outputs": [
        {
          "output_type": "stream",
          "name": "stdout",
          "text": [
            "Best Position: [0.00157709 0.00146409]\n",
            "Best Score: 4.630776977407126e-06\n"
          ]
        }
      ],
      "source": [
        "import numpy as np\n",
        "\n",
        "class GreyWolfOptimizer:\n",
        "    def __init__(self, function, bounds, num_wolves=30, max_iter=100):\n",
        "        self.function = function\n",
        "        self.bounds = bounds\n",
        "        self.num_wolves = num_wolves\n",
        "        self.max_iter = max_iter\n",
        "        self.dim = len(bounds)\n",
        "        self.wolves_pos = np.random.rand(num_wolves, self.dim)\n",
        "        # Scale positions to fit within the bounds\n",
        "        for i in range(self.dim):\n",
        "            self.wolves_pos[:, i] = self.wolves_pos[:, i] * (bounds[i][1] - bounds[i][0]) + bounds[i][0]\n",
        "        self.alpha_pos = np.zeros(self.dim)\n",
        "        self.alpha_score = float(\"inf\")\n",
        "        self.beta_pos = np.zeros(self.dim)\n",
        "        self.beta_score = float(\"inf\")\n",
        "        self.delta_pos = np.zeros(self.dim)\n",
        "        self.delta_score = float(\"inf\")\n",
        "\n",
        "    def evaluate_fitness(self, position):\n",
        "        return self.function(position)\n",
        "\n",
        "    def update_position(self, a, alpha_pos, beta_pos, delta_pos, wolves_pos):\n",
        "        # Generate random values for exploration\n",
        "        r1, r2, r3 = np.random.rand(3, self.num_wolves, self.dim)\n",
        "\n",
        "        # Coefficients for position update\n",
        "        A = 2 * a * r1 - a\n",
        "        C = 2 * r2\n",
        "\n",
        "        # Distances from each wolf to the alpha, beta, and delta wolves\n",
        "        D_alpha = np.abs(C[0] * alpha_pos - wolves_pos)\n",
        "        D_beta = np.abs(C[1] * beta_pos - wolves_pos)\n",
        "        D_delta = np.abs(C[2] * delta_pos - wolves_pos)\n",
        "\n",
        "        # New positions based on the social hierarchy\n",
        "        X1 = alpha_pos - A[0] * D_alpha\n",
        "        X2 = beta_pos - A[1] * D_beta\n",
        "        X3 = delta_pos - A[2] * D_delta\n",
        "\n",
        "        # Update positions of all wolves\n",
        "        return (X1 + X2 + X3) / 3\n",
        "\n",
        "    def optimize(self):\n",
        "        for t in range(self.max_iter):\n",
        "            a = 2 - t * (2 / self.max_iter)  # Coefficient decreases over time\n",
        "            for i in range(self.num_wolves):\n",
        "                fitness = self.evaluate_fitness(self.wolves_pos[i])\n",
        "                # Update alpha, beta, and delta wolves based on fitness\n",
        "                if fitness < self.alpha_score:\n",
        "                    self.alpha_score, self.alpha_pos = fitness, self.wolves_pos[i]\n",
        "                elif fitness < self.beta_score:\n",
        "                    self.beta_score, self.beta_pos = fitness, self.wolves_pos[i]\n",
        "                elif fitness < self.delta_score:\n",
        "                    self.delta_score, self.delta_pos = fitness, self.wolves_pos[i]\n",
        "            # Update the positions of wolves\n",
        "            self.wolves_pos = self.update_position(a, self.alpha_pos, self.beta_pos, self.delta_pos, self.wolves_pos)\n",
        "        return self.alpha_pos, self.alpha_score\n",
        "\n",
        "# Example function to optimize (Sphere Function)\n",
        "def sphere_function(x):\n",
        "    return np.sum(x**2)\n",
        "\n",
        "# Set bounds and run GWO optimizer\n",
        "bounds = [(-5, 5), (-5, 5)]\n",
        "gwo = GreyWolfOptimizer(function=sphere_function, bounds=bounds, num_wolves=30, max_iter=100)\n",
        "best_position, best_score = gwo.optimize()\n",
        "\n",
        "print(\"Best Position:\", best_position)\n",
        "print(\"Best Score:\", best_score)\n"
      ]
    }
  ]
}